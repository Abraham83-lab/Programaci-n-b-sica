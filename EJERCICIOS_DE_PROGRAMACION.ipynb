{
  "nbformat": 4,
  "nbformat_minor": 0,
  "metadata": {
    "colab": {
      "name": "EJERCICIOS DE PROGRAMACION.ipynb",
      "provenance": [],
      "collapsed_sections": [],
      "authorship_tag": "ABX9TyMP1xjKFVo+Xnmpcb8eBscf",
      "include_colab_link": true
    },
    "kernelspec": {
      "name": "python3",
      "display_name": "Python 3"
    },
    "language_info": {
      "name": "python"
    }
  },
  "cells": [
    {
      "cell_type": "markdown",
      "metadata": {
        "id": "view-in-github",
        "colab_type": "text"
      },
      "source": [
        "<a href=\"https://colab.research.google.com/github/Abraham83-lab/Programaci-n-b-sica/blob/main/EJERCICIOS_DE_PROGRAMACION.ipynb\" target=\"_parent\"><img src=\"https://colab.research.google.com/assets/colab-badge.svg\" alt=\"Open In Colab\"/></a>"
      ]
    },
    {
      "cell_type": "markdown",
      "metadata": {
        "id": "97y5mBxI2mPs"
      },
      "source": [
        "#Curso de programación\n",
        "\n",
        "Por Sergio Abraham Botina Josa"
      ]
    },
    {
      "cell_type": "markdown",
      "metadata": {
        "id": "VIkPJOim3A_c"
      },
      "source": [
        "## Recordatorio."
      ]
    },
    {
      "cell_type": "code",
      "metadata": {
        "colab": {
          "base_uri": "https://localhost:8080/"
        },
        "id": "iAGbmxMDysMv",
        "outputId": "8f1ca086-cef7-4c79-8a3a-c55764d3f32d"
      },
      "source": [
        "#Se pueden realizar multiples entradas de la siguiente forma:\n",
        "entrada_1 = str(input(\"Entrada 1: \"))\n",
        "entrada_2 = str(input(\"Entrada 2: \"))\n",
        "#etc..."
      ],
      "execution_count": null,
      "outputs": [
        {
          "name": "stdout",
          "output_type": "stream",
          "text": [
            "Entrada 1: 10\n",
            "Entrada 2: 20\n"
          ]
        }
      ]
    },
    {
      "cell_type": "code",
      "metadata": {
        "colab": {
          "base_uri": "https://localhost:8080/"
        },
        "id": "FFVyNpVr3Gvj",
        "outputId": "c8264c9e-969e-42c4-f660-9cf784ed18a9"
      },
      "source": [
        "#Las condiciones se realizan con if\n",
        "if entrada_1 == '10':\n",
        "  print('su número es 10')\n",
        "#Se pueden agregar mas condiciones con elif\n",
        "elif entrada_1== '20':\n",
        "  print('su número es 20')\n",
        "#elif  condición:\n",
        "  #lo que hace si se cumple la condición\n",
        "else:\n",
        "  print('su número no es 10')"
      ],
      "execution_count": null,
      "outputs": [
        {
          "output_type": "stream",
          "name": "stdout",
          "text": [
            "su número es 10\n"
          ]
        }
      ]
    },
    {
      "cell_type": "markdown",
      "metadata": {
        "id": "v3gf7bOWRRM6"
      },
      "source": [
        "# Ejercicios de programación\n",
        "\n",
        "Hacer los siguientes ejercicios, se puede guiar con esta [Documentación](https://www.mclibre.org/consultar/python/lecciones/python-if-else.html):"
      ]
    },
    {
      "cell_type": "markdown",
      "metadata": {
        "id": "-QK0D2_pxyra"
      },
      "source": [
        "\n",
        "\n",
        "1.  Realizar un programa que le pida el usuario las calificaciones de 3 examenes, el programa debe de calcular el promedio de las notas (de 0 a 5) **y si** el promedio es mayor o igual a 3 diga la nota junto a un mensaje de :\"Aprobo la materia\" de lo contrario la salida debe ser la nota con un mensaje de: \"Reprobo la materia\"\n",
        "\n"
      ]
    },
    {
      "cell_type": "code",
      "metadata": {
        "colab": {
          "base_uri": "https://localhost:8080/"
        },
        "cellView": "form",
        "id": "NCrL3ROWcgoR",
        "outputId": "5f723417-3655-4e7d-fd07-eb2ff2e8950e"
      },
      "source": [
        "#@title PROMEDIO\n",
        "\n",
        "#ENTRADA DE DATOS\n",
        "nota_1 = float(input(\"Nota 1: \"))\n",
        "nota_2 = float(input(\"Nota 2: \"))\n",
        "nota_3 = float(input(\"Nota 3: \"))\n",
        "#PROMEDIO\n",
        "promedio = (nota_1+nota_2+nota_3)/3\n",
        "#¿APROBÓ O NO?\n",
        "if promedio>5:\n",
        "  print(\"Sus entradas son invalidas, revise que los números esten del 0 al 5\")\n",
        "elif promedio >= 3:\n",
        "  print(\"La nota es\", promedio, \"Aprobo la materia\" )\n",
        "else:\n",
        "  print(\"La nota es\", promedio, \"Perdio la materia\")\n"
      ],
      "execution_count": null,
      "outputs": [
        {
          "output_type": "stream",
          "name": "stdout",
          "text": [
            "Nota 1: 10\n",
            "Nota 2: 10\n",
            "Nota 3: 0\n",
            "Sus entradas son invalidas, revise que los números esten del 0 al 5\n"
          ]
        }
      ]
    },
    {
      "cell_type": "markdown",
      "metadata": {
        "id": "y1KROfVVz0_z"
      },
      "source": [
        "2. Realizar un programa que le pida al usuario una fecha (D, M, A), obtener y devolver en las mismas variables donde recibió los datos, las fechas recibidas retrocediendo 8 días.\n",
        "\n",
        "*Tener cuidado con los casos criticos, 1 del al 8 de cada mes, y los finales de año*"
      ]
    },
    {
      "cell_type": "markdown",
      "metadata": {
        "id": "0HCtup9Co4nv"
      },
      "source": [
        "Para que un año sea bisiesto se debe cumplir:\n",
        "\n",
        "\n",
        "\n",
        "*   Que el año sea divisible entre 4\n",
        "*   Que el año es divisible entre 100 **No** es bisiesto \n",
        "*   Que el año sea divisible entre 400\n",
        "\n"
      ]
    },
    {
      "cell_type": "code",
      "metadata": {
        "colab": {
          "base_uri": "https://localhost:8080/"
        },
        "id": "yl7r2rm9jy_S",
        "outputId": "a249af5b-0412-4244-beab-4cb6271d760e"
      },
      "source": [
        "D = int(input(\"D: \"))\n",
        "M = int(input(\"M: \"))\n",
        "A = int(input(\"A: \"))\n",
        "\n",
        "def binzz(Y):\n",
        "  if Y%4 == 0: #Si el el modulo del año es o haga:\n",
        "    return True\n",
        "  elif  Y%100 != 0 and Y%4 == 0:\n",
        "    return True\n",
        "  elif Y%400 ==0:\n",
        "    return True\n",
        "  else:\n",
        "    return False\n",
        "\n",
        "binzz(A)"
      ],
      "execution_count": null,
      "outputs": [
        {
          "name": "stdout",
          "output_type": "stream",
          "text": [
            "D: 10\n",
            "M: 8\n",
            "A: 2020\n"
          ]
        },
        {
          "output_type": "execute_result",
          "data": {
            "text/plain": [
              "True"
            ]
          },
          "metadata": {},
          "execution_count": 20
        }
      ]
    },
    {
      "cell_type": "code",
      "metadata": {
        "id": "1msLMBY5rqLd"
      },
      "source": [
        ""
      ],
      "execution_count": null,
      "outputs": []
    }
  ]
}